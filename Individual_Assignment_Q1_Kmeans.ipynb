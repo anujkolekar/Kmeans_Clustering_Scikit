{
 "cells": [
  {
   "cell_type": "markdown",
   "metadata": {},
   "source": [
    "Importing the data using Pandas library and understanding summary statistics"
   ]
  },
  {
   "cell_type": "markdown",
   "metadata": {},
   "source": [
    "Understanding if there is any missing data!"
   ]
  },
  {
   "cell_type": "code",
   "execution_count": 1,
   "metadata": {},
   "outputs": [
    {
     "data": {
      "text/html": [
       "<div>\n",
       "<style scoped>\n",
       "    .dataframe tbody tr th:only-of-type {\n",
       "        vertical-align: middle;\n",
       "    }\n",
       "\n",
       "    .dataframe tbody tr th {\n",
       "        vertical-align: top;\n",
       "    }\n",
       "\n",
       "    .dataframe thead th {\n",
       "        text-align: right;\n",
       "    }\n",
       "</style>\n",
       "<table border=\"1\" class=\"dataframe\">\n",
       "  <thead>\n",
       "    <tr style=\"text-align: right;\">\n",
       "      <th></th>\n",
       "      <th>Age</th>\n",
       "      <th>Income</th>\n",
       "      <th>SpendingScore</th>\n",
       "      <th>Savings</th>\n",
       "    </tr>\n",
       "  </thead>\n",
       "  <tbody>\n",
       "    <tr>\n",
       "      <th>count</th>\n",
       "      <td>505.000000</td>\n",
       "      <td>505.000000</td>\n",
       "      <td>505.000000</td>\n",
       "      <td>505.000000</td>\n",
       "    </tr>\n",
       "    <tr>\n",
       "      <th>mean</th>\n",
       "      <td>59.019802</td>\n",
       "      <td>75513.291089</td>\n",
       "      <td>0.505083</td>\n",
       "      <td>11862.455867</td>\n",
       "    </tr>\n",
       "    <tr>\n",
       "      <th>std</th>\n",
       "      <td>24.140043</td>\n",
       "      <td>35992.922184</td>\n",
       "      <td>0.259634</td>\n",
       "      <td>4949.229253</td>\n",
       "    </tr>\n",
       "    <tr>\n",
       "      <th>min</th>\n",
       "      <td>17.000000</td>\n",
       "      <td>12000.000000</td>\n",
       "      <td>0.000000</td>\n",
       "      <td>0.000000</td>\n",
       "    </tr>\n",
       "    <tr>\n",
       "      <th>25%</th>\n",
       "      <td>34.000000</td>\n",
       "      <td>34529.000000</td>\n",
       "      <td>0.304792</td>\n",
       "      <td>6828.709702</td>\n",
       "    </tr>\n",
       "    <tr>\n",
       "      <th>50%</th>\n",
       "      <td>59.000000</td>\n",
       "      <td>75078.000000</td>\n",
       "      <td>0.368215</td>\n",
       "      <td>14209.932802</td>\n",
       "    </tr>\n",
       "    <tr>\n",
       "      <th>75%</th>\n",
       "      <td>85.000000</td>\n",
       "      <td>107100.000000</td>\n",
       "      <td>0.768279</td>\n",
       "      <td>16047.268331</td>\n",
       "    </tr>\n",
       "    <tr>\n",
       "      <th>max</th>\n",
       "      <td>97.000000</td>\n",
       "      <td>142000.000000</td>\n",
       "      <td>1.000000</td>\n",
       "      <td>20000.000000</td>\n",
       "    </tr>\n",
       "  </tbody>\n",
       "</table>\n",
       "</div>"
      ],
      "text/plain": [
       "              Age         Income  SpendingScore       Savings\n",
       "count  505.000000     505.000000     505.000000    505.000000\n",
       "mean    59.019802   75513.291089       0.505083  11862.455867\n",
       "std     24.140043   35992.922184       0.259634   4949.229253\n",
       "min     17.000000   12000.000000       0.000000      0.000000\n",
       "25%     34.000000   34529.000000       0.304792   6828.709702\n",
       "50%     59.000000   75078.000000       0.368215  14209.932802\n",
       "75%     85.000000  107100.000000       0.768279  16047.268331\n",
       "max     97.000000  142000.000000       1.000000  20000.000000"
      ]
     },
     "execution_count": 1,
     "metadata": {},
     "output_type": "execute_result"
    }
   ],
   "source": [
    "import pandas as pd\n",
    "\n",
    "\n",
    "data=pd.read_csv('C:/Users/anuj/Documents/Anuj/MMA/Maching Learning & AI/Individual Assignment/jewelry_customers.csv')\n",
    "\n",
    "data.head()\n",
    "\n",
    "data.tail()\n",
    "\n",
    "data.describe()\n",
    "\n",
    "\n",
    "\n"
   ]
  },
  {
   "cell_type": "code",
   "execution_count": 2,
   "metadata": {},
   "outputs": [
    {
     "data": {
      "text/plain": [
       "Age              0\n",
       "Income           0\n",
       "SpendingScore    0\n",
       "Savings          0\n",
       "dtype: int64"
      ]
     },
     "execution_count": 2,
     "metadata": {},
     "output_type": "execute_result"
    }
   ],
   "source": [
    "pd.isna(data).sum()"
   ]
  },
  {
   "cell_type": "code",
   "execution_count": 3,
   "metadata": {},
   "outputs": [],
   "source": [
    "from sklearn.preprocessing import StandardScaler\n",
    "\n",
    "#data1=data.drop('Age',axis=1)\n",
    "#features=['Income','SpendingScore','Savings']\n",
    "\n",
    "scl=StandardScaler()\n",
    "data1=scl.fit_transform(data)"
   ]
  },
  {
   "cell_type": "code",
   "execution_count": 4,
   "metadata": {},
   "outputs": [
    {
     "data": {
      "text/html": [
       "<div>\n",
       "<style scoped>\n",
       "    .dataframe tbody tr th:only-of-type {\n",
       "        vertical-align: middle;\n",
       "    }\n",
       "\n",
       "    .dataframe tbody tr th {\n",
       "        vertical-align: top;\n",
       "    }\n",
       "\n",
       "    .dataframe thead th {\n",
       "        text-align: right;\n",
       "    }\n",
       "</style>\n",
       "<table border=\"1\" class=\"dataframe\">\n",
       "  <thead>\n",
       "    <tr style=\"text-align: right;\">\n",
       "      <th></th>\n",
       "      <th>0</th>\n",
       "      <th>1</th>\n",
       "      <th>2</th>\n",
       "      <th>3</th>\n",
       "    </tr>\n",
       "  </thead>\n",
       "  <tbody>\n",
       "    <tr>\n",
       "      <th>count</th>\n",
       "      <td>5.050000e+02</td>\n",
       "      <td>5.050000e+02</td>\n",
       "      <td>5.050000e+02</td>\n",
       "      <td>5.050000e+02</td>\n",
       "    </tr>\n",
       "    <tr>\n",
       "      <th>mean</th>\n",
       "      <td>5.672031e-17</td>\n",
       "      <td>-2.638154e-17</td>\n",
       "      <td>-1.954432e-16</td>\n",
       "      <td>-4.058360e-16</td>\n",
       "    </tr>\n",
       "    <tr>\n",
       "      <th>std</th>\n",
       "      <td>1.000992e+00</td>\n",
       "      <td>1.000992e+00</td>\n",
       "      <td>1.000992e+00</td>\n",
       "      <td>1.000992e+00</td>\n",
       "    </tr>\n",
       "    <tr>\n",
       "      <th>min</th>\n",
       "      <td>-1.742394e+00</td>\n",
       "      <td>-1.766355e+00</td>\n",
       "      <td>-1.947295e+00</td>\n",
       "      <td>-2.399206e+00</td>\n",
       "    </tr>\n",
       "    <tr>\n",
       "      <th>25%</th>\n",
       "      <td>-1.037472e+00</td>\n",
       "      <td>-1.139805e+00</td>\n",
       "      <td>-7.722011e-01</td>\n",
       "      <td>-1.018085e+00</td>\n",
       "    </tr>\n",
       "    <tr>\n",
       "      <th>50%</th>\n",
       "      <td>-8.211094e-04</td>\n",
       "      <td>-1.210579e-02</td>\n",
       "      <td>-5.276784e-01</td>\n",
       "      <td>4.747819e-01</td>\n",
       "    </tr>\n",
       "    <tr>\n",
       "      <th>75%</th>\n",
       "      <td>1.077295e+00</td>\n",
       "      <td>8.784513e-01</td>\n",
       "      <td>1.014725e+00</td>\n",
       "      <td>8.463867e-01</td>\n",
       "    </tr>\n",
       "    <tr>\n",
       "      <th>max</th>\n",
       "      <td>1.574888e+00</td>\n",
       "      <td>1.849048e+00</td>\n",
       "      <td>1.908103e+00</td>\n",
       "      <td>1.645835e+00</td>\n",
       "    </tr>\n",
       "  </tbody>\n",
       "</table>\n",
       "</div>"
      ],
      "text/plain": [
       "                  0             1             2             3\n",
       "count  5.050000e+02  5.050000e+02  5.050000e+02  5.050000e+02\n",
       "mean   5.672031e-17 -2.638154e-17 -1.954432e-16 -4.058360e-16\n",
       "std    1.000992e+00  1.000992e+00  1.000992e+00  1.000992e+00\n",
       "min   -1.742394e+00 -1.766355e+00 -1.947295e+00 -2.399206e+00\n",
       "25%   -1.037472e+00 -1.139805e+00 -7.722011e-01 -1.018085e+00\n",
       "50%   -8.211094e-04 -1.210579e-02 -5.276784e-01  4.747819e-01\n",
       "75%    1.077295e+00  8.784513e-01  1.014725e+00  8.463867e-01\n",
       "max    1.574888e+00  1.849048e+00  1.908103e+00  1.645835e+00"
      ]
     },
     "execution_count": 4,
     "metadata": {},
     "output_type": "execute_result"
    }
   ],
   "source": [
    "pd.DataFrame(data1).describe()"
   ]
  },
  {
   "cell_type": "code",
   "execution_count": 5,
   "metadata": {},
   "outputs": [
    {
     "name": "stdout",
     "output_type": "stream",
     "text": [
      "\n",
      "Number of clusters: 2 \n",
      "Clustering: [1 1 1 1 0 1 1 0 0 0 0 1 1 1 1 0 1 0 0 0 1 0 1 0 0 1 1 1 0 1 1 1 0 1 1 1 0\n",
      " 1 1 1 1 0 1 1 1 1 0 1 1 1 0 1 1 0 1 0 1 0 0 0 0 0 0 1 1 1 0 1 1 1 1 1 0 0\n",
      " 1 1 1 1 1 1 1 0 1 0 0 1 1 1 1 1 1 1 1 0 1 1 1 1 1 1 1 1 1 1 1 0 0 1 1 1 0\n",
      " 1 1 1 1 1 1 1 1 0 1 0 0 0 1 0 1 0 1 1 1 1 1 1 1 0 0 1 1 1 0 1 1 1 1 1 1 0\n",
      " 1 0 1 1 0 1 0 0 1 1 0 1 1 0 1 1 0 1 0 1 1 1 0 1 1 1 0 1 1 0 0 0 1 1 1 1 1\n",
      " 0 1 1 1 1 1 0 1 1 1 0 1 1 0 0 0 1 1 1 1 1 1 0 1 1 0 0 0 0 1 0 1 1 1 0 1 1\n",
      " 1 0 1 1 1 1 1 0 1 1 0 1 1 1 1 1 1 1 1 1 1 1 0 1 1 0 1 1 1 0 1 1 0 0 1 1 1\n",
      " 1 0 1 1 0 1 0 1 1 1 1 0 1 0 0 1 1 0 0 1 1 0 1 1 0 1 0 0 1 0 0 0 1 1 1 1 1\n",
      " 1 0 0 1 1 1 0 1 1 1 1 0 1 1 0 0 0 1 0 1 1 1 0 1 0 1 0 1 0 0 1 0 1 1 1 1 1\n",
      " 1 1 0 0 1 1 1 0 1 0 0 1 1 1 0 0 1 1 0 1 0 1 1 1 0 1 0 1 1 0 0 1 0 1 1 0 1\n",
      " 1 1 0 0 0 0 0 1 1 0 1 1 1 0 0 0 1 0 0 1 0 0 1 0 1 1 1 1 1 0 1 1 1 1 0 1 1\n",
      " 1 1 1 1 1 1 1 0 1 1 1 0 1 0 1 0 1 1 1 0 0 1 0 1 1 1 1 1 0 1 1 1 0 1 0 1 1\n",
      " 1 1 1 1 0 0 1 1 1 1 1 0 1 1 1 0 1 1 1 1 0 0 1 1 1 1 1 1 1 1 1 0 1 1 1 1 1\n",
      " 0 1 0 0 0 0 1 0 0 0 1 1 0 0 1 1 0 1 1 1 0 0 0 0] \n",
      "Inertia with 2 Clusters: 1022.3905044613807 \n",
      "Silhouette_score with 2 Clusters: 0.5212589967674504 \n",
      "Centroids: [[ 1.18168379 -0.95290242 -0.82557329  0.91576197]\n",
      " [-0.61035919  0.49218984  0.42642224 -0.47300618]]\n",
      "\n",
      "Number of clusters: 3 \n",
      "Clustering: [1 1 1 1 2 1 1 2 2 2 0 0 0 0 1 0 1 2 2 0 0 0 1 2 0 1 1 1 2 1 1 1 2 1 0 1 2\n",
      " 1 0 0 1 2 1 1 1 1 0 1 0 1 2 0 1 2 1 2 0 2 2 2 2 2 2 1 1 1 2 1 1 1 1 0 2 2\n",
      " 0 1 0 1 1 1 1 0 1 2 2 0 0 1 1 1 1 1 1 2 1 1 0 1 1 0 0 1 0 1 0 2 2 0 0 1 2\n",
      " 0 1 0 0 0 1 0 1 2 0 2 2 2 0 0 1 2 1 1 0 1 0 1 1 2 0 1 1 0 2 1 1 1 1 1 1 0\n",
      " 1 2 1 0 2 1 2 0 0 1 2 1 0 2 1 0 2 0 2 1 0 1 2 1 0 1 2 1 1 2 2 2 1 1 0 1 1\n",
      " 2 0 1 1 1 0 2 1 1 1 2 1 0 2 2 2 0 1 0 1 0 1 2 1 1 2 2 2 2 1 2 0 1 0 2 1 1\n",
      " 0 2 0 1 0 1 1 2 1 1 2 1 1 1 0 1 0 0 1 1 1 1 0 1 0 2 1 1 1 2 1 0 2 2 0 0 1\n",
      " 1 0 1 1 2 1 2 0 1 1 0 2 1 2 2 0 1 2 2 1 1 2 0 0 0 0 2 2 0 0 2 2 1 1 0 0 1\n",
      " 0 2 2 0 1 0 2 1 0 1 1 2 0 0 2 0 0 1 2 0 1 1 2 0 2 0 2 0 2 2 0 2 0 1 0 1 1\n",
      " 0 0 2 2 1 1 0 2 1 2 0 1 1 1 2 2 0 0 0 0 0 1 0 1 2 1 2 1 1 2 2 1 2 0 1 0 0\n",
      " 0 1 2 2 2 2 2 0 0 2 1 0 1 0 2 2 1 2 2 1 2 2 0 2 1 0 1 0 1 2 0 1 1 1 2 0 1\n",
      " 0 1 0 1 1 1 0 0 1 0 0 2 1 2 0 2 0 1 1 2 0 0 2 0 1 1 0 1 2 1 0 1 2 1 2 1 0\n",
      " 0 1 0 0 2 2 1 1 1 0 0 0 1 0 1 2 0 0 1 0 2 2 1 1 0 1 1 0 1 1 1 2 0 0 1 1 1\n",
      " 2 0 2 2 2 2 1 2 2 2 1 1 2 2 1 1 2 0 1 0 2 2 2 2] \n",
      "Inertia with 3 Clusters: 384.8111859304379 \n",
      "Silhouette_score with 3 Clusters: 0.6963481945884472 \n",
      "Centroids: [[-0.72276928  0.89502598 -0.90658925  0.62188649]\n",
      " [-0.31952856  0.28812391  1.14397016 -1.14260341]\n",
      " [ 1.19238486 -1.32510593 -0.67963841  0.97016358]]\n",
      "\n",
      "Number of clusters: 4 \n",
      "Clustering: [1 1 1 1 2 3 1 2 2 2 0 0 0 0 1 0 1 2 2 0 0 0 1 2 0 3 3 1 2 1 1 1 2 1 0 1 2\n",
      " 1 0 0 1 2 3 1 1 3 0 3 0 1 2 0 3 2 1 2 0 2 2 2 2 2 2 1 1 1 2 3 3 1 1 0 2 2\n",
      " 0 1 0 1 1 3 1 0 1 2 2 0 0 1 1 1 1 1 3 2 1 3 0 1 1 0 0 3 0 3 0 2 2 0 0 1 2\n",
      " 0 1 0 0 0 1 0 3 2 0 2 2 2 0 0 1 2 1 1 0 1 0 1 3 2 0 3 1 0 2 1 1 3 1 3 1 0\n",
      " 1 2 1 0 2 1 2 0 0 1 2 1 0 2 1 0 2 0 2 1 0 1 2 1 0 1 2 1 1 2 2 2 1 1 0 3 3\n",
      " 2 0 1 1 1 0 2 1 1 1 2 3 0 2 2 2 0 1 0 1 0 1 2 3 1 2 2 2 2 1 2 0 3 0 2 1 1\n",
      " 0 2 0 3 0 1 1 2 1 1 2 1 1 1 0 1 0 0 3 1 1 1 0 1 0 2 3 3 3 2 1 0 2 2 0 0 1\n",
      " 1 0 1 1 2 1 2 0 3 1 0 2 1 2 2 0 1 2 2 1 1 2 0 0 0 0 2 2 0 0 2 2 3 1 0 0 1\n",
      " 0 2 2 0 1 0 2 1 0 3 1 2 0 0 2 0 0 1 2 0 1 1 2 0 2 0 2 0 2 2 0 2 0 1 0 1 1\n",
      " 0 0 2 2 3 3 0 2 3 2 0 1 1 1 2 2 0 0 0 0 0 1 0 3 2 1 2 3 1 2 2 1 2 0 1 0 0\n",
      " 0 1 2 2 2 2 2 0 0 2 1 0 1 0 2 2 1 2 2 1 2 2 0 2 1 0 3 0 1 2 0 1 1 1 2 0 3\n",
      " 0 1 0 1 1 3 0 0 3 0 0 2 1 2 0 2 0 1 1 2 0 0 2 0 1 1 0 1 2 1 0 1 2 1 2 3 0\n",
      " 0 3 0 0 2 2 1 3 1 0 0 0 3 0 3 2 0 0 1 0 2 2 3 1 0 1 1 0 1 1 1 2 0 0 1 1 1\n",
      " 2 0 2 2 2 2 3 2 2 2 1 1 2 2 1 3 2 0 3 0 2 2 2 2] \n",
      "Inertia with 4 Clusters: 189.70178796659562 \n",
      "Silhouette_score with 4 Clusters: 0.7581191889903789 \n",
      "Centroids: [[-0.72276928  0.89502598 -0.90658925  0.62188649]\n",
      " [ 0.03879611 -0.08524639  1.02721559 -1.00569483]\n",
      " [ 1.19238486 -1.32510593 -0.67963841  0.97016358]\n",
      " [-1.44466803  1.46050665  1.51057952 -1.57249636]]\n",
      "\n",
      "Number of clusters: 5 \n",
      "Clustering: [1 1 1 1 2 4 1 2 2 2 3 0 0 0 1 3 1 2 2 3 0 3 1 2 3 4 4 1 2 1 1 1 2 1 0 1 2\n",
      " 1 0 0 1 2 4 1 1 4 3 4 0 1 2 0 4 2 1 2 0 2 2 2 2 2 2 1 1 1 2 4 4 1 1 0 2 2\n",
      " 0 1 0 1 1 4 1 3 1 2 2 0 0 1 1 1 1 1 4 2 1 4 0 1 1 0 0 4 0 4 0 2 2 0 0 1 2\n",
      " 0 1 0 0 0 1 0 4 2 0 2 2 2 0 3 1 2 1 1 0 1 0 1 4 2 3 4 1 0 2 1 1 4 1 4 1 3\n",
      " 1 2 1 0 2 1 2 3 0 1 2 1 0 2 1 0 2 0 2 1 0 1 2 1 0 1 2 1 1 2 2 2 1 1 0 4 4\n",
      " 2 0 1 1 1 0 2 1 1 1 2 4 0 2 2 2 0 1 0 1 0 1 2 4 1 2 2 2 2 1 2 0 4 0 2 1 1\n",
      " 0 2 0 4 0 1 1 2 1 1 2 1 1 1 0 1 0 0 4 1 1 1 3 1 0 2 4 4 4 2 1 0 2 2 0 0 1\n",
      " 1 3 1 1 2 1 2 0 4 1 0 2 1 2 2 0 1 2 2 1 1 2 0 0 3 0 2 2 0 3 2 2 4 1 0 0 1\n",
      " 0 2 2 0 1 0 2 1 0 4 1 2 0 0 2 3 3 1 2 0 1 1 2 0 2 0 2 0 2 2 0 2 0 1 0 1 1\n",
      " 0 0 2 2 4 4 0 2 4 2 3 1 1 1 2 2 0 0 3 0 3 1 0 4 2 1 2 4 1 2 2 1 2 0 1 3 0\n",
      " 0 1 2 2 2 2 2 0 0 2 1 0 1 3 2 2 1 2 2 1 2 2 0 2 1 0 4 0 1 2 0 1 1 1 2 0 4\n",
      " 0 1 0 1 1 4 0 3 4 0 0 2 1 2 0 2 0 1 1 2 3 0 2 0 1 1 0 1 2 1 0 1 2 1 2 4 0\n",
      " 0 4 0 0 2 2 1 4 1 0 0 3 4 0 4 2 0 0 1 0 2 2 4 1 0 1 1 0 1 1 1 2 0 0 1 1 1\n",
      " 2 0 2 2 2 2 4 2 2 2 1 1 2 2 1 4 2 0 4 0 2 2 2 2] \n",
      "Inertia with 5 Clusters: 66.5111137485908 \n",
      "Silhouette_score with 5 Clusters: 0.8048976287755765 \n",
      "Centroids: [[-1.08815238  0.82744102 -0.75240648  0.6270464 ]\n",
      " [ 0.03879611 -0.08524639  1.02721559 -1.00569483]\n",
      " [ 1.19238486 -1.32510593 -0.67963841  0.97016358]\n",
      " [ 1.11876151  1.23565419 -1.68367042  0.59588052]\n",
      " [-1.44466803  1.46050665  1.51057952 -1.57249636]]\n",
      "\n",
      "Number of clusters: 6 \n",
      "Clustering: [1 1 1 1 0 3 1 0 5 0 4 2 2 2 1 4 1 5 0 4 2 4 1 5 4 3 3 1 0 1 1 1 0 1 2 1 0\n",
      " 1 2 2 1 0 3 1 1 3 4 3 2 1 0 2 3 5 1 0 2 0 5 5 5 0 0 1 1 1 0 3 3 1 1 2 5 0\n",
      " 2 1 2 1 1 3 1 4 1 5 5 2 2 1 1 1 1 1 3 0 1 3 2 1 1 2 2 3 2 3 2 5 5 2 2 1 5\n",
      " 2 1 2 2 2 1 2 3 0 2 0 5 5 2 4 1 0 1 1 2 1 2 1 3 0 4 3 1 2 0 1 1 3 1 3 1 4\n",
      " 1 5 1 2 5 1 0 4 2 1 0 1 2 5 1 2 0 2 5 1 2 1 0 1 2 1 0 1 1 0 0 0 1 1 2 3 3\n",
      " 5 2 1 1 1 2 0 1 1 1 0 3 2 5 5 0 2 1 2 1 2 1 0 3 1 0 0 5 5 1 5 2 3 2 0 1 1\n",
      " 2 0 2 3 2 1 1 0 1 1 0 1 1 1 2 1 2 2 3 1 1 1 4 1 2 0 3 3 3 5 1 2 0 5 2 2 1\n",
      " 1 4 1 1 0 1 5 2 3 1 2 0 1 0 0 2 1 0 5 1 1 0 2 2 4 2 5 0 2 4 0 5 3 1 2 2 1\n",
      " 2 0 5 2 1 2 0 1 2 3 1 5 2 2 5 4 4 1 0 2 1 1 5 2 5 2 0 2 0 0 2 5 2 1 2 1 1\n",
      " 2 2 0 0 3 3 2 0 3 0 4 1 1 1 0 0 2 2 4 2 4 1 2 3 5 1 0 3 1 5 5 1 0 2 1 4 2\n",
      " 2 1 0 5 0 0 5 2 2 0 1 2 1 4 0 5 1 5 0 1 5 0 2 5 1 2 3 2 1 5 2 1 1 1 5 2 3\n",
      " 2 1 2 1 1 3 2 4 3 2 2 5 1 0 2 5 2 1 1 0 4 2 0 2 1 1 2 1 5 1 2 1 5 1 0 3 2\n",
      " 2 3 2 2 0 5 1 3 1 2 2 4 3 2 3 0 2 2 1 2 0 0 3 1 2 1 1 2 1 1 1 5 2 2 1 1 1\n",
      " 5 2 5 0 5 0 3 5 5 5 1 1 0 0 1 3 5 2 3 2 0 5 0 5] \n",
      "Inertia with 6 Clusters: 61.128551981718225 \n",
      "Silhouette_score with 6 Clusters: 0.6327323492246884 \n",
      "Centroids: [[ 1.21452828 -1.34192834 -0.66558676  1.13292499]\n",
      " [ 0.03879611 -0.08524639  1.02721559 -1.00569483]\n",
      " [-1.08815238  0.82744102 -0.75240648  0.6270464 ]\n",
      " [-1.44466803  1.46050665  1.51057952 -1.57249636]\n",
      " [ 1.11876151  1.23565419 -1.68367042  0.59588052]\n",
      " [ 1.1628603  -1.30267606 -0.69837394  0.75314836]]\n",
      "\n",
      "Number of clusters: 7 \n",
      "Clustering: [5 5 0 0 6 3 5 6 1 6 4 2 2 2 0 4 0 1 6 4 2 4 5 1 4 3 3 0 6 0 0 0 6 0 2 5 6\n",
      " 0 2 2 0 6 3 0 0 3 4 3 2 5 6 2 3 1 0 6 2 6 1 1 1 6 6 5 0 5 6 3 3 0 0 2 1 6\n",
      " 2 5 2 5 0 3 0 4 5 1 1 2 2 5 0 5 0 5 3 6 0 3 2 5 5 2 2 3 2 3 2 1 1 2 2 5 1\n",
      " 2 5 2 2 2 5 2 3 6 2 6 1 1 2 4 5 6 5 0 2 0 2 5 3 6 4 3 0 2 1 5 5 3 0 3 0 4\n",
      " 0 1 0 2 1 5 6 4 2 0 6 0 2 1 5 2 6 2 1 5 2 0 6 0 2 0 6 5 5 6 6 6 5 5 2 3 3\n",
      " 1 2 0 5 0 2 6 0 0 0 1 3 2 1 1 6 2 5 2 5 2 5 6 3 0 6 6 1 1 0 1 2 3 2 6 5 0\n",
      " 2 6 2 3 2 5 0 6 5 5 6 5 5 5 2 0 2 2 3 0 5 5 4 5 2 6 3 3 3 1 5 2 6 1 2 2 0\n",
      " 5 4 0 5 6 5 1 2 3 0 2 6 0 6 6 2 5 6 1 5 0 6 2 2 4 2 1 6 2 4 6 1 3 0 2 2 5\n",
      " 2 6 1 2 0 2 6 5 2 3 0 1 2 2 1 4 4 0 6 2 0 5 1 2 6 2 6 2 6 6 2 1 2 0 2 0 0\n",
      " 2 2 6 6 3 3 2 6 3 6 4 0 5 0 6 6 2 2 4 2 4 5 2 3 1 0 6 3 5 1 1 0 6 2 5 4 2\n",
      " 2 0 6 1 6 6 1 2 2 6 0 2 5 4 6 1 0 1 1 5 1 6 2 1 5 2 3 2 5 1 2 0 5 0 1 2 3\n",
      " 2 0 2 5 0 3 2 4 3 2 2 1 5 6 2 1 2 5 5 6 4 2 6 2 0 0 2 0 1 0 2 5 1 0 6 3 2\n",
      " 2 3 2 2 6 1 0 3 0 2 2 4 3 2 3 6 2 2 5 2 6 6 3 0 2 0 0 2 5 0 5 1 2 2 0 5 0\n",
      " 1 2 1 6 1 6 3 1 1 1 5 0 6 6 5 3 1 2 3 2 6 1 6 1] \n",
      "Inertia with 7 Clusters: 56.90514984798326 \n",
      "Silhouette_score with 7 Clusters: 0.44473782608725626 \n",
      "Centroids: [[ 0.02565719 -0.1279126   0.96365085 -0.87132854]\n",
      " [ 1.15767578 -1.28820856 -0.70159946  0.7628309 ]\n",
      " [-1.08815238  0.82744102 -0.75240648  0.6270464 ]\n",
      " [-1.44466803  1.46050665  1.51057952 -1.57249636]\n",
      " [ 1.11876151  1.23565419 -1.68367042  0.59588052]\n",
      " [ 0.053533   -0.03739106  1.09851117 -1.15640295]\n",
      " [ 1.21989815 -1.35435385 -0.66223026  1.13451265]]\n"
     ]
    },
    {
     "name": "stdout",
     "output_type": "stream",
     "text": [
      "\n",
      "Number of clusters: 8 \n",
      "Clustering: [5 5 0 0 7 3 5 7 1 7 4 2 6 6 0 4 0 1 7 4 6 4 5 1 4 3 3 0 7 0 0 0 7 0 2 5 7\n",
      " 0 2 6 0 7 3 5 0 3 4 3 2 5 7 2 3 1 0 7 2 7 1 1 1 7 7 5 0 5 7 3 3 0 0 6 1 7\n",
      " 6 5 2 5 0 3 0 4 5 1 1 2 6 5 0 5 0 5 3 7 5 3 2 5 5 2 6 3 2 3 2 1 1 6 6 5 1\n",
      " 2 5 2 6 6 5 6 3 7 2 7 1 1 2 4 5 7 5 0 2 0 6 5 3 7 4 3 0 2 7 5 0 3 0 3 5 4\n",
      " 0 1 5 6 1 5 1 4 6 5 7 0 2 1 5 6 7 2 1 5 2 5 7 0 6 0 7 5 5 7 7 7 5 5 6 3 3\n",
      " 1 2 0 0 5 2 7 5 0 0 7 3 6 1 1 7 2 5 2 5 2 0 7 3 0 7 7 1 1 0 1 6 3 6 7 5 5\n",
      " 2 7 6 3 6 5 0 7 5 5 7 5 5 5 2 0 6 2 3 0 5 5 4 5 2 7 3 3 3 1 5 6 7 1 6 6 5\n",
      " 5 4 0 5 7 5 1 6 3 5 6 7 0 1 7 6 5 7 1 5 5 7 2 6 4 6 1 7 6 4 7 1 3 5 6 2 5\n",
      " 2 7 1 2 0 6 1 0 2 3 0 1 2 2 1 4 4 0 7 6 5 5 1 6 1 2 7 6 1 7 2 1 6 5 6 0 5\n",
      " 2 6 1 7 3 3 6 7 3 7 4 5 5 0 7 7 6 6 4 2 4 5 6 3 1 0 7 3 5 1 1 0 7 2 5 4 6\n",
      " 2 0 7 1 7 7 1 2 6 1 0 2 5 4 7 1 5 1 7 5 1 7 2 1 5 2 3 6 5 1 6 0 5 0 1 2 3\n",
      " 6 5 2 0 5 3 2 4 3 6 2 1 5 7 2 1 6 5 5 7 4 2 1 2 0 0 6 5 1 0 6 5 1 0 7 3 2\n",
      " 2 3 6 2 7 1 5 3 0 6 6 4 3 6 3 7 2 6 5 2 7 7 3 5 6 0 0 2 5 0 5 1 6 6 5 5 0\n",
      " 1 2 1 7 1 7 3 1 1 1 0 0 7 7 5 3 1 2 3 6 7 1 7 1] \n",
      "Inertia with 8 Clusters: 52.87255201460325 \n",
      "Silhouette_score with 8 Clusters: 0.2971693867760512 \n",
      "Centroids: [[ 0.01002385 -0.11240048  1.03869278 -0.8132079 ]\n",
      " [ 1.1756292  -1.32167374 -0.69372349  0.77113872]\n",
      " [-1.08027532  0.77819834 -0.77012207  0.79972251]\n",
      " [-1.44466803  1.46050665  1.51057952 -1.57249636]\n",
      " [ 1.11876151  1.23565419 -1.68367042  0.59588052]\n",
      " [ 0.05912434 -0.06606144  1.0191067  -1.14169103]\n",
      " [-1.09578328  0.87514486 -0.7352445   0.45976642]\n",
      " [ 1.20761727 -1.32822611 -0.6668338   1.15109527]]\n"
     ]
    },
    {
     "data": {
      "image/png": "[encoded data removed]",
      "text/plain": [
       "<Figure size 432x288 with 1 Axes>"
      ]
     },
     "metadata": {
      "needs_background": "light"
     },
     "output_type": "display_data"
    },
    {
     "data": {
      "image/png": "[encoded data removed]",
      "text/plain": [
       "<Figure size 432x288 with 1 Axes>"
      ]
     },
     "metadata": {
      "needs_background": "light"
     },
     "output_type": "display_data"
    }
   ],
   "source": [
    "from sklearn.cluster import KMeans\n",
    "from sklearn.metrics import silhouette_score\n",
    "import matplotlib.pyplot as plt\n",
    "\n",
    "cluster=[]\n",
    "Inertia=[]\n",
    "silscore=[]\n",
    "\n",
    "x=data1\n",
    "\n",
    "for k in range(2,9):\n",
    "    kmeans=KMeans(n_clusters=k,n_init=25,random_state=40)\n",
    "\n",
    "    y_pred=kmeans.fit_predict(x)\n",
    "    \n",
    "    cluster.append(k)\n",
    "    Inertia.append(kmeans.inertia_)\n",
    "    \n",
    "    silscore.append(silhouette_score(x,kmeans.labels_))\n",
    "\n",
    "    \n",
    "    print(\"\\n\"'Number of clusters:',k,\"\\n\"'Clustering:',y_pred,\"\\n\"'Inertia with',k,'Clusters:',kmeans.inertia_,\"\\n\"\n",
    "          'Silhouette_score with',k,'Clusters:',silhouette_score(x,kmeans.labels_),\"\\n\"'Centroids:',kmeans.cluster_centers_) \n",
    "    \n",
    "   \n",
    "\n",
    "\n",
    "\n",
    "plt.plot(cluster,Inertia)\n",
    "plt.xlabel('Number of Clusters')\n",
    "plt.ylabel('Inertia')\n",
    "plt.title('Inertia Graph')\n",
    "plt.show()\n",
    "\n",
    "plt.plot(cluster,silscore)\n",
    "plt.xlabel('Number of Clusters')\n",
    "plt.ylabel('Silhouette Score')\n",
    "plt.title('Silhoutte Graph')\n",
    "plt.show()\n",
    "\n",
    "\n",
    "\n",
    "\n"
   ]
  },
  {
   "cell_type": "markdown",
   "metadata": {},
   "source": [
    "\n",
    "\n",
    "Plotting the clusters with its centroids"
   ]
  },
  {
   "cell_type": "code",
   "execution_count": 6,
   "metadata": {},
   "outputs": [
    {
     "data": {
      "text/plain": [
       "Text(0, 0.5, 'SpendingScore')"
      ]
     },
     "execution_count": 6,
     "metadata": {},
     "output_type": "execute_result"
    },
    {
     "data": {
      "image/png": "[encoded data removed]",
      "text/plain": [
       "<Figure size 432x288 with 1 Axes>"
      ]
     },
     "metadata": {
      "needs_background": "light"
     },
     "output_type": "display_data"
    }
   ],
   "source": [
    "kmeans=KMeans(n_clusters=5,n_init=25,random_state=40)\n",
    "\n",
    "y_pred=kmeans.fit(x)\n",
    "\n",
    "plt.figure;\n",
    "\n",
    "plt.scatter(x[:,1], x[:,2], s=100, c=y_pred.labels_)\n",
    "\n",
    "plt.scatter(\n",
    "y_pred.cluster_centers_[:, 1], y_pred.cluster_centers_[:, 2],\n",
    "c='red', edgecolor='black',\n",
    "label='centroids'\n",
    ")\n",
    "\n",
    "plt.xlabel('Income')\n",
    "plt.ylabel('SpendingScore')\n"
   ]
  },
  {
   "cell_type": "code",
   "execution_count": 7,
   "metadata": {},
   "outputs": [
    {
     "name": "stderr",
     "output_type": "stream",
     "text": [
      "C:\\Users\\anuj\\anaconda3\\lib\\site-packages\\sklearn\\utils\\deprecation.py:144: FutureWarning: The sklearn.metrics.classification module is  deprecated in version 0.22 and will be removed in version 0.24. The corresponding classes / functions should instead be imported from sklearn.metrics. Anything that cannot be imported from sklearn.metrics is now part of the private API.\n",
      "  warnings.warn(message, FutureWarning)\n"
     ]
    },
    {
     "data": {
      "image/png": "[encoded data removed]",
      "text/plain": [
       "<Figure size 576x396 with 1 Axes>"
      ]
     },
     "metadata": {},
     "output_type": "display_data"
    }
   ],
   "source": [
    "from yellowbrick.cluster import SilhouetteVisualizer\n",
    "from yellowbrick.datasets import load_nfl\n",
    "\n",
    "visualizer=SilhouetteVisualizer(kmeans)\n",
    "visualizer.fit(x)\n",
    "visualizer.poof()\n",
    "\n",
    "fig=visualizer.ax.get_figure()\n",
    "\n"
   ]
  },
  {
   "cell_type": "code",
   "execution_count": 8,
   "metadata": {},
   "outputs": [
    {
     "data": {
      "text/plain": [
       "array([[-1.08815238,  0.82744102, -0.75240648,  0.6270464 ],\n",
       "       [ 0.03879611, -0.08524639,  1.02721559, -1.00569483],\n",
       "       [ 1.19238486, -1.32510593, -0.67963841,  0.97016358],\n",
       "       [ 1.11876151,  1.23565419, -1.68367042,  0.59588052],\n",
       "       [-1.44466803,  1.46050665,  1.51057952, -1.57249636]])"
      ]
     },
     "execution_count": 8,
     "metadata": {},
     "output_type": "execute_result"
    }
   ],
   "source": [
    "kmeans.cluster_centers_"
   ]
  },
  {
   "cell_type": "code",
   "execution_count": 9,
   "metadata": {},
   "outputs": [
    {
     "data": {
      "text/plain": [
       "1    157\n",
       "2    147\n",
       "0    126\n",
       "4     50\n",
       "3     25\n",
       "Name: cluster, dtype: int64"
      ]
     },
     "execution_count": 9,
     "metadata": {},
     "output_type": "execute_result"
    }
   ],
   "source": [
    "z_pred=kmeans.fit_predict(x)\n",
    "\n",
    "data3=pd.DataFrame(data1)\n",
    "\n",
    "\n",
    "data3['cluster']=z_pred\n",
    "\n",
    "data3['cluster'].value_counts()\n",
    "\n"
   ]
  },
  {
   "cell_type": "code",
   "execution_count": 11,
   "metadata": {},
   "outputs": [
    {
     "name": "stdout",
     "output_type": "stream",
     "text": [
      "\n",
      "Cluster0:\n",
      "              Age         Income  SpendingScore       Savings\n",
      "count  126.000000     126.000000     126.000000    126.000000\n",
      "mean    32.777778  105265.809524       0.309926  14962.778066\n",
      "std      3.792390    6080.621753       0.045513   1061.734017\n",
      "min     22.000000   89598.000000       0.174120  12207.526078\n",
      "25%     30.000000  100760.250000       0.281237  14223.787562\n",
      "50%     33.000000  106002.500000       0.309479  14976.943192\n",
      "75%     35.000000  108858.750000       0.341096  15682.288845\n",
      "max     44.000000  119877.000000       0.411112  17968.553929\n",
      "\n",
      "Cluster1:\n",
      "              Age        Income  SpendingScore       Savings\n",
      "count  157.000000    157.000000     157.000000    157.000000\n",
      "mean    59.955414  72448.063694       0.771518   6889.972190\n",
      "std      3.376662   6240.260008       0.046058   1052.276354\n",
      "min     51.000000  56321.000000       0.657314   4077.658657\n",
      "25%     58.000000  68463.000000       0.740367   6225.376082\n",
      "50%     59.000000  72027.000000       0.766720   6845.056822\n",
      "75%     62.000000  76594.000000       0.800598   7497.231607\n",
      "max     68.000000  90422.000000       0.910417  10547.775368\n",
      "\n",
      "Cluster2:\n",
      "              Age        Income  SpendingScore       Savings\n",
      "count  147.000000    147.000000     147.000000    147.000000\n",
      "mean    87.775510  27866.102041       0.328800  16659.261445\n",
      "std      3.508885   6448.805481       0.045224   1183.850178\n",
      "min     79.000000  12000.000000       0.203140  13470.970605\n",
      "25%     85.000000  23361.000000       0.301502  15957.282919\n",
      "50%     88.000000  27771.000000       0.324719  16711.067980\n",
      "75%     91.000000  32601.000000       0.357267  17433.126684\n",
      "max     97.000000  46977.000000       0.473550  20000.000000\n",
      "\n",
      "Cluster3:\n",
      "             Age         Income  SpendingScore       Savings\n",
      "count  25.000000      25.000000      25.000000     25.000000\n",
      "mean   86.000000  119944.040000       0.068378  14808.683793\n",
      "std     3.662877    4941.052254       0.039744   1159.339639\n",
      "min    77.000000  110582.000000       0.000000  12554.692742\n",
      "25%    84.000000  117347.000000       0.036795  14047.388986\n",
      "50%    86.000000  119429.000000       0.063273  14773.407206\n",
      "75%    88.000000  123651.000000       0.082723  15391.952192\n",
      "max    93.000000  128596.000000       0.155694  17833.093470\n",
      "\n",
      "Cluster4:\n",
      "             Age         Income  SpendingScore      Savings\n",
      "count  50.000000      50.000000      50.000000    50.000000\n",
      "mean   24.180000  128029.120000       0.896892  4087.520309\n",
      "std     3.662775    5688.904656       0.043466  1277.754801\n",
      "min    17.000000  117108.000000       0.806553     0.000000\n",
      "25%    22.000000  123042.000000       0.871957  3275.320193\n",
      "50%    24.500000  128162.000000       0.890676  4361.967019\n",
      "75%    27.000000  131435.750000       0.926473  4986.863329\n",
      "max    31.000000  142000.000000       1.000000  6089.478323\n"
     ]
    }
   ],
   "source": [
    "for label in set(kmeans.labels_):\n",
    "    print('\\nCluster{}:'.format(label))\n",
    "    \n",
    "    print(data[kmeans.labels_==label].describe())\n",
    "    \n",
    "    \n",
    "    "
   ]
  },
  {
   "cell_type": "code",
   "execution_count": 12,
   "metadata": {},
   "outputs": [
    {
     "name": "stdout",
     "output_type": "stream",
     "text": [
      "\n",
      "Cluster 0:\n",
      "                        339\n",
      "Age               34.000000\n",
      "Income         89598.000000\n",
      "SpendingScore      0.340152\n",
      "Savings        12832.768721\n",
      "\n",
      "Cluster 1:\n",
      "                        278\n",
      "Age               59.000000\n",
      "Income         56321.000000\n",
      "SpendingScore      0.806566\n",
      "Savings         6129.288986\n",
      "\n",
      "Cluster 2:\n",
      "                        320\n",
      "Age               87.000000\n",
      "Income         12000.000000\n",
      "SpendingScore      0.342991\n",
      "Savings        16180.265252\n",
      "\n",
      "Cluster 3:\n",
      "                         368\n",
      "Age                84.000000\n",
      "Income         110582.000000\n",
      "SpendingScore       0.079049\n",
      "Savings         14937.995170\n",
      "\n",
      "Cluster 4:\n",
      "                         360\n",
      "Age                28.000000\n",
      "Income         117108.000000\n",
      "SpendingScore       0.857078\n",
      "Savings          4749.879237\n"
     ]
    }
   ],
   "source": [
    "from scipy.spatial import distance\n",
    "\n",
    "for i, label in enumerate(set(kmeans.labels_)):    \n",
    "    data_tmp = data[kmeans.labels_==label].copy()\n",
    "    \n",
    "    exemplar_idx = distance.cdist([kmeans.cluster_centers_[i]], data_tmp).argmin()\n",
    "    exemplar = pd.DataFrame(data_tmp.iloc[exemplar_idx])\n",
    "   \n",
    "    print('\\nCluster {}:'.format(label))\n",
    "    \n",
    "    \n",
    "    print(exemplar)\n",
    "    \n",
    "    \n",
    "\n",
    "    "
   ]
  },
  {
   "cell_type": "code",
   "execution_count": null,
   "metadata": {},
   "outputs": [],
   "source": []
  }
 ],
 "metadata": {
  "kernelspec": {
   "display_name": "Python 3",
   "language": "python",
   "name": "python3"
  },
  "language_info": {
   "codemirror_mode": {
    "name": "ipython",
    "version": 3
   },
   "file_extension": ".py",
   "mimetype": "text/x-python",
   "name": "python",
   "nbconvert_exporter": "python",
   "pygments_lexer": "ipython3",
   "version": "3.7.6"
  }
 },
 "nbformat": 4,
 "nbformat_minor": 4
}
